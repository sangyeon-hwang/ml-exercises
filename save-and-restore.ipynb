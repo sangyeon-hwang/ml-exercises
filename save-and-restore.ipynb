{
 "cells": [
  {
   "cell_type": "markdown",
   "metadata": {},
   "source": [
    "## Save and restore models\n",
    "https://www.tensorflow.org/alpha/tutorials/keras/save_and_restore_models\n",
    "\n",
    "A demonstration of model saving and restoring using the MNIST dataset."
   ]
  },
  {
   "cell_type": "code",
   "execution_count": 1,
   "metadata": {},
   "outputs": [],
   "source": [
    "import os\n",
    "\n",
    "import tensorflow as tf\n",
    "from tensorflow import keras"
   ]
  },
  {
   "cell_type": "markdown",
   "metadata": {},
   "source": [
    "### Data"
   ]
  },
  {
   "cell_type": "code",
   "execution_count": 2,
   "metadata": {},
   "outputs": [],
   "source": [
    "(trainImages, trainLabels), (testImages, testLabels) = keras.datasets.mnist.load_data()\n",
    "\n",
    "# Use fewer dataset for demonstration.\n",
    "trainLabels = trainLabels[:1000]\n",
    "testLabels = testLabels[:1000]\n",
    "\n",
    "# Truncation and normalization\n",
    "trainImages = trainImages[:1000].reshape(-1, 28*28) / 255.\n",
    "testImages = testImages[:1000].reshape(-1, 28*28) / 255."
   ]
  },
  {
   "cell_type": "markdown",
   "metadata": {},
   "source": [
    "### Model"
   ]
  },
  {
   "cell_type": "code",
   "execution_count": 5,
   "metadata": {},
   "outputs": [],
   "source": [
    "def buildModel():\n",
    "    model = keras.models.Sequential([\n",
    "        keras.layers.Dense(512, activation='relu',\n",
    "                           input_shape=(trainImages.shape[1],)),\n",
    "        keras.layers.Dropout(0.2),\n",
    "        keras.layers.Dense(10, activation='softmax')\n",
    "    ])\n",
    "    model.compile(optimizer='adam',\n",
    "                  loss='sparse_categorical_crossentropy',\n",
    "                  metrics=['accuracy'])\n",
    "    return model"
   ]
  },
  {
   "cell_type": "code",
   "execution_count": 6,
   "metadata": {
    "scrolled": true
   },
   "outputs": [
    {
     "name": "stdout",
     "output_type": "stream",
     "text": [
      "Model: \"sequential\"\n",
      "_________________________________________________________________\n",
      "Layer (type)                 Output Shape              Param #   \n",
      "=================================================================\n",
      "dense (Dense)                (None, 512)               401920    \n",
      "_________________________________________________________________\n",
      "dropout (Dropout)            (None, 512)               0         \n",
      "_________________________________________________________________\n",
      "dense_1 (Dense)              (None, 10)                5130      \n",
      "=================================================================\n",
      "Total params: 407,050\n",
      "Trainable params: 407,050\n",
      "Non-trainable params: 0\n",
      "_________________________________________________________________\n"
     ]
    }
   ],
   "source": [
    "model = buildModel()\n",
    "model.summary()"
   ]
  },
  {
   "cell_type": "markdown",
   "metadata": {},
   "source": [
    "### Save checkpoints during training\n",
    "We'll use `tf.keras.callbacks.ModelCheckpoint` to save models during and at the end of training."
   ]
  },
  {
   "cell_type": "code",
   "execution_count": 12,
   "metadata": {},
   "outputs": [
    {
     "name": "stdout",
     "output_type": "stream",
     "text": [
      "Train on 1000 samples, validate on 1000 samples\n",
      "Epoch 1/10\n",
      " 416/1000 [===========>..................] - ETA: 0s - loss: 1.7395 - accuracy: 0.5096\n",
      "Epoch 00001: saving model to model-saving-example/cp.ckpt\n",
      "1000/1000 [==============================] - 0s 307us/sample - loss: 1.1766 - accuracy: 0.6740 - val_loss: 0.7011 - val_accuracy: 0.7740\n",
      "Epoch 2/10\n",
      " 576/1000 [================>.............] - ETA: 0s - loss: 0.4633 - accuracy: 0.8715\n",
      "Epoch 00002: saving model to model-saving-example/cp.ckpt\n",
      "1000/1000 [==============================] - 0s 136us/sample - loss: 0.4378 - accuracy: 0.8820 - val_loss: 0.5388 - val_accuracy: 0.8310\n",
      "Epoch 3/10\n",
      " 640/1000 [==================>...........] - ETA: 0s - loss: 0.2822 - accuracy: 0.9203\n",
      "Epoch 00003: saving model to model-saving-example/cp.ckpt\n",
      "1000/1000 [==============================] - 0s 132us/sample - loss: 0.3017 - accuracy: 0.9190 - val_loss: 0.4596 - val_accuracy: 0.8630\n",
      "Epoch 4/10\n",
      " 672/1000 [===================>..........] - ETA: 0s - loss: 0.2099 - accuracy: 0.9479\n",
      "Epoch 00004: saving model to model-saving-example/cp.ckpt\n",
      "1000/1000 [==============================] - 0s 132us/sample - loss: 0.2175 - accuracy: 0.9480 - val_loss: 0.4648 - val_accuracy: 0.8500\n",
      "Epoch 5/10\n",
      " 672/1000 [===================>..........] - ETA: 0s - loss: 0.1702 - accuracy: 0.9554\n",
      "Epoch 00005: saving model to model-saving-example/cp.ckpt\n",
      "1000/1000 [==============================] - 0s 128us/sample - loss: 0.1646 - accuracy: 0.9590 - val_loss: 0.4531 - val_accuracy: 0.8470\n",
      "Epoch 6/10\n",
      " 672/1000 [===================>..........] - ETA: 0s - loss: 0.1031 - accuracy: 0.9851\n",
      "Epoch 00006: saving model to model-saving-example/cp.ckpt\n",
      "1000/1000 [==============================] - 0s 132us/sample - loss: 0.1170 - accuracy: 0.9810 - val_loss: 0.4014 - val_accuracy: 0.8680\n",
      "Epoch 7/10\n",
      " 512/1000 [==============>...............] - ETA: 0s - loss: 0.0985 - accuracy: 0.9805\n",
      "Epoch 00007: saving model to model-saving-example/cp.ckpt\n",
      "1000/1000 [==============================] - 0s 141us/sample - loss: 0.0964 - accuracy: 0.9830 - val_loss: 0.3972 - val_accuracy: 0.8770\n",
      "Epoch 8/10\n",
      " 704/1000 [====================>.........] - ETA: 0s - loss: 0.0787 - accuracy: 0.9830\n",
      "Epoch 00008: saving model to model-saving-example/cp.ckpt\n",
      "1000/1000 [==============================] - 0s 131us/sample - loss: 0.0727 - accuracy: 0.9860 - val_loss: 0.3932 - val_accuracy: 0.8780\n",
      "Epoch 9/10\n",
      " 704/1000 [====================>.........] - ETA: 0s - loss: 0.0499 - accuracy: 0.9972\n",
      "Epoch 00009: saving model to model-saving-example/cp.ckpt\n",
      "1000/1000 [==============================] - 0s 125us/sample - loss: 0.0505 - accuracy: 0.9960 - val_loss: 0.4065 - val_accuracy: 0.8680\n",
      "Epoch 10/10\n",
      " 608/1000 [=================>............] - ETA: 0s - loss: 0.0386 - accuracy: 0.9984\n",
      "Epoch 00010: saving model to model-saving-example/cp.ckpt\n",
      "1000/1000 [==============================] - 0s 143us/sample - loss: 0.0381 - accuracy: 0.9990 - val_loss: 0.3973 - val_accuracy: 0.8730\n"
     ]
    },
    {
     "data": {
      "text/plain": [
       "<tensorflow.python.keras.callbacks.History at 0x7f1a6c163748>"
      ]
     },
     "execution_count": 12,
     "metadata": {},
     "output_type": "execute_result"
    }
   ],
   "source": [
    "checkpointPath = 'model-saving-example/cp.ckpt'\n",
    "\n",
    "# Create a checkpoint callback.\n",
    "cpCallback = keras.callbacks.ModelCheckpoint(checkpointPath,\n",
    "                                             save_weights_only=True,\n",
    "                                             verbose=1)\n",
    "\n",
    "# Train with the callback.\n",
    "model = buildModel()\n",
    "model.fit(trainImages, trainLabels,\n",
    "          epochs=10,\n",
    "          validation_data=(testImages, testLabels),\n",
    "          callbacks=[cpCallback])"
   ]
  },
  {
   "cell_type": "markdown",
   "metadata": {},
   "source": [
    "We can see a checkpoint file is created."
   ]
  },
  {
   "cell_type": "code",
   "execution_count": 20,
   "metadata": {},
   "outputs": [
    {
     "name": "stdout",
     "output_type": "stream",
     "text": [
      "total 4.2M\r\n",
      "-rw-rw-rw- 1 yeon yeon   71 Jun  4 11:12 checkpoint\r\n",
      "-rw-rw-rw- 1 yeon yeon 4.7M Jun  4 11:12 cp.ckpt.data-00000-of-00001\r\n",
      "-rw-rw-rw- 1 yeon yeon 1.6K Jun  4 11:12 cp.ckpt.index\r\n"
     ]
    }
   ],
   "source": [
    "!ls -lh $(dirname {checkpointPath})"
   ]
  },
  {
   "cell_type": "markdown",
   "metadata": {},
   "source": [
    "### Load the checkpoint\n",
    "Let's build a fresh model and evaluate it right away."
   ]
  },
  {
   "cell_type": "code",
   "execution_count": 21,
   "metadata": {},
   "outputs": [
    {
     "name": "stdout",
     "output_type": "stream",
     "text": [
      "1000/1000 [==============================] - 0s 66us/sample - loss: 2.3579 - accuracy: 0.0970\n",
      "Untrained model accuracy: 9.70%\n"
     ]
    }
   ],
   "source": [
    "model = buildModel()\n",
    "loss, accuracy = model.evaluate(testImages, testLabels)\n",
    "print(f\"Untrained model accuracy: {accuracy:5.2%}\")"
   ]
  },
  {
   "cell_type": "markdown",
   "metadata": {},
   "source": [
    "Let's load the saved weights and re-evaluate the model."
   ]
  },
  {
   "cell_type": "code",
   "execution_count": 22,
   "metadata": {},
   "outputs": [
    {
     "name": "stdout",
     "output_type": "stream",
     "text": [
      "1000/1000 [==============================] - 0s 25us/sample - loss: 0.3973 - accuracy: 0.8730\n",
      "Restored model accuracy: 87.30%\n"
     ]
    }
   ],
   "source": [
    "model.load_weights(checkpointPath)\n",
    "loss, accuracy = model.evaluate(testImages, testLabels)\n",
    "print(f\"Restored model accuracy: {accuracy:5.2%}\")"
   ]
  },
  {
   "cell_type": "markdown",
   "metadata": {},
   "source": [
    "### Checkpoint callback options\n",
    "Let's give a custom indicator to checkpoint files and use different saving options."
   ]
  },
  {
   "cell_type": "code",
   "execution_count": 23,
   "metadata": {},
   "outputs": [
    {
     "name": "stdout",
     "output_type": "stream",
     "text": [
      "\n",
      "Epoch 00005: saving model to model-saving-example/cp-0005.ckpt\n",
      "\n",
      "Epoch 00010: saving model to model-saving-example/cp-0010.ckpt\n",
      "\n",
      "Epoch 00015: saving model to model-saving-example/cp-0015.ckpt\n",
      "\n",
      "Epoch 00020: saving model to model-saving-example/cp-0020.ckpt\n",
      "\n",
      "Epoch 00025: saving model to model-saving-example/cp-0025.ckpt\n",
      "\n",
      "Epoch 00030: saving model to model-saving-example/cp-0030.ckpt\n",
      "\n",
      "Epoch 00035: saving model to model-saving-example/cp-0035.ckpt\n",
      "\n",
      "Epoch 00040: saving model to model-saving-example/cp-0040.ckpt\n",
      "\n",
      "Epoch 00045: saving model to model-saving-example/cp-0045.ckpt\n",
      "\n",
      "Epoch 00050: saving model to model-saving-example/cp-0050.ckpt\n"
     ]
    },
    {
     "data": {
      "text/plain": [
       "<tensorflow.python.keras.callbacks.History at 0x7f1a4c09edd8>"
      ]
     },
     "execution_count": 23,
     "metadata": {},
     "output_type": "execute_result"
    }
   ],
   "source": [
    "checkpointPath = 'model-saving-example/cp-{epoch:04d}.ckpt'\n",
    "cpCallback = keras.callbacks.ModelCheckpoint(\n",
    "    checkpointPath, verbose=1, save_weights_only=True,\n",
    "    # Save weights every 5-epochs.\n",
    "    period=5)\n",
    "\n",
    "model = buildModel()\n",
    "model.save_weights(checkpointPath.format(epoch=0))\n",
    "model.fit(trainImages, trainLabels, epochs=50,\n",
    "          validation_data=(testImages, testLabels),\n",
    "          callbacks=[cpCallback],\n",
    "          verbose=0)"
   ]
  },
  {
   "cell_type": "markdown",
   "metadata": {},
   "source": [
    "We can see the newly saved checkpoints:"
   ]
  },
  {
   "cell_type": "code",
   "execution_count": 29,
   "metadata": {
    "scrolled": false
   },
   "outputs": [
    {
     "name": "stdout",
     "output_type": "stream",
     "text": [
      "total 47M\r\n",
      "-rw-rw-rw- 1 yeon yeon 4.7M Jun  4 11:12 cp.ckpt.data-00000-of-00001\r\n",
      "-rw-rw-rw- 1 yeon yeon 1.6K Jun  4 11:12 cp.ckpt.index\r\n",
      "-rw-rw-rw- 1 yeon yeon 1.6M Jun  4 11:26 cp-0000.ckpt.data-00000-of-00001\r\n",
      "-rw-rw-rw- 1 yeon yeon  706 Jun  4 11:26 cp-0000.ckpt.index\r\n",
      "-rw-rw-rw- 1 yeon yeon 4.7M Jun  4 11:26 cp-0005.ckpt.data-00000-of-00001\r\n",
      "-rw-rw-rw- 1 yeon yeon 1.6K Jun  4 11:26 cp-0005.ckpt.index\r\n",
      "-rw-rw-rw- 1 yeon yeon 4.7M Jun  4 11:26 cp-0010.ckpt.data-00000-of-00001\r\n",
      "-rw-rw-rw- 1 yeon yeon 1.6K Jun  4 11:26 cp-0010.ckpt.index\r\n",
      "-rw-rw-rw- 1 yeon yeon 1.6K Jun  4 11:26 cp-0015.ckpt.index\r\n",
      "-rw-rw-rw- 1 yeon yeon 4.7M Jun  4 11:26 cp-0015.ckpt.data-00000-of-00001\r\n",
      "-rw-rw-rw- 1 yeon yeon 1.6K Jun  4 11:26 cp-0020.ckpt.index\r\n",
      "-rw-rw-rw- 1 yeon yeon 4.7M Jun  4 11:26 cp-0020.ckpt.data-00000-of-00001\r\n",
      "-rw-rw-rw- 1 yeon yeon 4.7M Jun  4 11:26 cp-0025.ckpt.data-00000-of-00001\r\n",
      "-rw-rw-rw- 1 yeon yeon 1.6K Jun  4 11:26 cp-0025.ckpt.index\r\n",
      "-rw-rw-rw- 1 yeon yeon 4.7M Jun  4 11:26 cp-0030.ckpt.data-00000-of-00001\r\n",
      "-rw-rw-rw- 1 yeon yeon 1.6K Jun  4 11:26 cp-0030.ckpt.index\r\n",
      "-rw-rw-rw- 1 yeon yeon 4.7M Jun  4 11:26 cp-0035.ckpt.data-00000-of-00001\r\n",
      "-rw-rw-rw- 1 yeon yeon 1.6K Jun  4 11:26 cp-0035.ckpt.index\r\n",
      "-rw-rw-rw- 1 yeon yeon 4.7M Jun  4 11:26 cp-0040.ckpt.data-00000-of-00001\r\n",
      "-rw-rw-rw- 1 yeon yeon 1.6K Jun  4 11:26 cp-0040.ckpt.index\r\n",
      "-rw-rw-rw- 1 yeon yeon 1.6K Jun  4 11:26 cp-0045.ckpt.index\r\n",
      "-rw-rw-rw- 1 yeon yeon 4.7M Jun  4 11:26 cp-0045.ckpt.data-00000-of-00001\r\n",
      "-rw-rw-rw- 1 yeon yeon 1.6K Jun  4 11:26 cp-0050.ckpt.index\r\n",
      "-rw-rw-rw- 1 yeon yeon 4.7M Jun  4 11:26 cp-0050.ckpt.data-00000-of-00001\r\n",
      "-rw-rw-rw- 1 yeon yeon   81 Jun  4 11:26 checkpoint\r\n"
     ]
    }
   ],
   "source": [
    "!ls -lhtr $(dirname {checkpointPath})"
   ]
  },
  {
   "cell_type": "markdown",
   "metadata": {},
   "source": [
    "from which we can choose the latest one:"
   ]
  },
  {
   "cell_type": "code",
   "execution_count": 30,
   "metadata": {},
   "outputs": [
    {
     "name": "stdout",
     "output_type": "stream",
     "text": [
      "model-saving-example/cp-0050.ckpt\n"
     ]
    }
   ],
   "source": [
    "latestCheckpoint = tf.train.latest_checkpoint(os.path.dirname(checkpointPath))\n",
    "print(latestCheckpoint)"
   ]
  },
  {
   "cell_type": "markdown",
   "metadata": {},
   "source": [
    "Let's load and evaluate the latest weights."
   ]
  },
  {
   "cell_type": "code",
   "execution_count": 31,
   "metadata": {},
   "outputs": [
    {
     "name": "stdout",
     "output_type": "stream",
     "text": [
      "1000/1000 [==============================] - 0s 69us/sample - loss: 0.4752 - accuracy: 0.8780\n",
      "Restored model accuracy: 87.80%\n"
     ]
    }
   ],
   "source": [
    "model = buildModel()\n",
    "model.load_weights(latestCheckpoint)\n",
    "loss, accuracy = model.evaluate(testImages, testLabels)\n",
    "print(f\"Restored model accuracy: {accuracy:5.2%}\")"
   ]
  },
  {
   "cell_type": "markdown",
   "metadata": {},
   "source": [
    "Checkpoint saving consists of\n",
    "- One or more shards containing the model's weights, and\n",
    "- An index file indicating which weights are in which shard.\n",
    "\n",
    "When training a model on a single machine, only one shard with suffix `.data-00000-of-00001` is saved."
   ]
  },
  {
   "cell_type": "markdown",
   "metadata": {},
   "source": [
    "### Manually save weights\n",
    "Model weights can be manually saved."
   ]
  },
  {
   "cell_type": "code",
   "execution_count": 33,
   "metadata": {},
   "outputs": [],
   "source": [
    "model.save_weights('model-saving-example/manual_checkpoint')"
   ]
  },
  {
   "cell_type": "markdown",
   "metadata": {},
   "source": [
    "Note the checkpoint names:"
   ]
  },
  {
   "cell_type": "code",
   "execution_count": 35,
   "metadata": {},
   "outputs": [
    {
     "name": "stdout",
     "output_type": "stream",
     "text": [
      "-rw-rw-rw- 1 yeon yeon 1.6K Jun  4 11:26 cp-0035.ckpt.index\r\n",
      "-rw-rw-rw- 1 yeon yeon 4.7M Jun  4 11:26 cp-0040.ckpt.data-00000-of-00001\r\n",
      "-rw-rw-rw- 1 yeon yeon 1.6K Jun  4 11:26 cp-0040.ckpt.index\r\n",
      "-rw-rw-rw- 1 yeon yeon 1.6K Jun  4 11:26 cp-0045.ckpt.index\r\n",
      "-rw-rw-rw- 1 yeon yeon 4.7M Jun  4 11:26 cp-0045.ckpt.data-00000-of-00001\r\n",
      "-rw-rw-rw- 1 yeon yeon 1.6K Jun  4 11:26 cp-0050.ckpt.index\r\n",
      "-rw-rw-rw- 1 yeon yeon 4.7M Jun  4 11:26 cp-0050.ckpt.data-00000-of-00001\r\n",
      "-rw-rw-rw- 1 yeon yeon 4.7M Jun  4 11:46 manual_checkpoint.data-00000-of-00001\r\n",
      "-rw-rw-rw- 1 yeon yeon 1.3K Jun  4 11:46 manual_checkpoint.index\r\n",
      "-rw-rw-rw- 1 yeon yeon   91 Jun  4 11:46 checkpoint\r\n"
     ]
    }
   ],
   "source": [
    "!ls -lhtr model-saving-example | tail"
   ]
  },
  {
   "cell_type": "markdown",
   "metadata": {},
   "source": [
    "Test the weights."
   ]
  },
  {
   "cell_type": "code",
   "execution_count": 36,
   "metadata": {},
   "outputs": [
    {
     "name": "stdout",
     "output_type": "stream",
     "text": [
      "1000/1000 [==============================] - 0s 62us/sample - loss: 0.4752 - accuracy: 0.8780\n",
      "Restored model accuracy: 87.80%\n"
     ]
    }
   ],
   "source": [
    "model = buildModel()\n",
    "model.load_weights('model-saving-example/manual_checkpoint')\n",
    "loss, accuracy = model.evaluate(testImages, testLabels)\n",
    "print(f\"Restored model accuracy: {accuracy:5.2%}\")"
   ]
  },
  {
   "cell_type": "markdown",
   "metadata": {},
   "source": [
    "### Save an entire model\n",
    "A model and its optimizer can be saved to a file.\n",
    "\n",
    "Let's first clean the save directory."
   ]
  },
  {
   "cell_type": "code",
   "execution_count": 37,
   "metadata": {},
   "outputs": [],
   "source": [
    "!rm model-saving-example/*"
   ]
  },
  {
   "cell_type": "markdown",
   "metadata": {},
   "source": [
    "#### As an HDF5"
   ]
  },
  {
   "cell_type": "code",
   "execution_count": 38,
   "metadata": {},
   "outputs": [],
   "source": [
    "model = buildModel()\n",
    "model.fit(trainImages, trainLabels, epochs=5, verbose=0)\n",
    "model.save('model-saving-example/my_model.h5')"
   ]
  },
  {
   "cell_type": "code",
   "execution_count": 40,
   "metadata": {},
   "outputs": [
    {
     "name": "stdout",
     "output_type": "stream",
     "text": [
      "total 7.0M\r\n",
      "-rw-rw-rw- 1 yeon yeon 4.7M Jun  4 11:53 my_model.h5\r\n"
     ]
    }
   ],
   "source": [
    "!ls -lh model-saving-example/"
   ]
  },
  {
   "cell_type": "markdown",
   "metadata": {},
   "source": [
    "Build a model directly from the file:"
   ]
  },
  {
   "cell_type": "code",
   "execution_count": 41,
   "metadata": {},
   "outputs": [
    {
     "name": "stdout",
     "output_type": "stream",
     "text": [
      "Model: \"sequential_7\"\n",
      "_________________________________________________________________\n",
      "Layer (type)                 Output Shape              Param #   \n",
      "=================================================================\n",
      "dense_14 (Dense)             (None, 512)               401920    \n",
      "_________________________________________________________________\n",
      "dropout_7 (Dropout)          (None, 512)               0         \n",
      "_________________________________________________________________\n",
      "dense_15 (Dense)             (None, 10)                5130      \n",
      "=================================================================\n",
      "Total params: 407,050\n",
      "Trainable params: 407,050\n",
      "Non-trainable params: 0\n",
      "_________________________________________________________________\n"
     ]
    }
   ],
   "source": [
    "newModel = keras.models.load_model('model-saving-example/my_model.h5')\n",
    "newModel.summary()"
   ]
  },
  {
   "cell_type": "markdown",
   "metadata": {},
   "source": [
    "Check the accuracy."
   ]
  },
  {
   "cell_type": "code",
   "execution_count": 42,
   "metadata": {},
   "outputs": [
    {
     "name": "stdout",
     "output_type": "stream",
     "text": [
      "1000/1000 [==============================] - 0s 68us/sample - loss: 0.4233 - accuracy: 0.8620\n",
      "Restored model accuracy: 86.20%\n"
     ]
    }
   ],
   "source": [
    "loss, accuracy = newModel.evaluate(testImages, testLabels)\n",
    "print(f\"Restored model accuracy: {accuracy:5.2%}\")"
   ]
  },
  {
   "cell_type": "markdown",
   "metadata": {},
   "source": [
    "Note that currently it is *not* possible to save **Tensorflow** optimizers (from `tf.train`). If Tensorflow optimizers are needed, we need to re-compile the model after loading; the state of the optimizer has to be lost."
   ]
  },
  {
   "cell_type": "markdown",
   "metadata": {},
   "source": [
    "#### As a `saved_model`\n",
    "This method is still experimental for `tf.keras` models.\n",
    "\n",
    "Let's save the model with a timestamp."
   ]
  },
  {
   "cell_type": "code",
   "execution_count": 43,
   "metadata": {},
   "outputs": [
    {
     "name": "stderr",
     "output_type": "stream",
     "text": [
      "WARNING: Logging before flag parsing goes to stderr.\n",
      "W0604 12:03:07.828806 139753968699200 deprecation.py:323] From /home/yeon/appl/anaconda3/envs/ml/lib/python3.7/site-packages/tensorflow/python/saved_model/signature_def_utils_impl.py:253: build_tensor_info (from tensorflow.python.saved_model.utils_impl) is deprecated and will be removed in a future version.\n",
      "Instructions for updating:\n",
      "This function will only be available through the v1 compatibility library as tf.compat.v1.saved_model.utils.build_tensor_info or tf.compat.v1.saved_model.build_tensor_info.\n",
      "W0604 12:03:07.829826 139753968699200 tf_logging.py:161] Export includes no default signature!\n",
      "W0604 12:03:08.141908 139753968699200 tf_logging.py:161] Export includes no default signature!\n"
     ]
    }
   ],
   "source": [
    "import time\n",
    "savedModelPath = f'model-saving-example/{time.time()}'\n",
    "keras.experimental.export_saved_model(model, savedModelPath)"
   ]
  },
  {
   "cell_type": "code",
   "execution_count": 45,
   "metadata": {},
   "outputs": [
    {
     "name": "stdout",
     "output_type": "stream",
     "text": [
      "total 7.0M\r\n",
      "-rw-rw-rw- 1 yeon yeon 4.7M Jun  4 11:53 my_model.h5\r\n",
      "drwxr-xr-x 1 yeon yeon 4.0K Jun  4 12:03 1559617387.3388798\r\n"
     ]
    }
   ],
   "source": [
    "!ls -lhtr model-saving-example/"
   ]
  },
  {
   "cell_type": "markdown",
   "metadata": {},
   "source": [
    "Reload the model:"
   ]
  },
  {
   "cell_type": "code",
   "execution_count": 46,
   "metadata": {},
   "outputs": [
    {
     "name": "stdout",
     "output_type": "stream",
     "text": [
      "Model: \"sequential_7\"\n",
      "_________________________________________________________________\n",
      "Layer (type)                 Output Shape              Param #   \n",
      "=================================================================\n",
      "dense_14 (Dense)             (None, 512)               401920    \n",
      "_________________________________________________________________\n",
      "dropout_7 (Dropout)          (None, 512)               0         \n",
      "_________________________________________________________________\n",
      "dense_15 (Dense)             (None, 10)                5130      \n",
      "=================================================================\n",
      "Total params: 407,050\n",
      "Trainable params: 407,050\n",
      "Non-trainable params: 0\n",
      "_________________________________________________________________\n"
     ]
    }
   ],
   "source": [
    "newModel = keras.experimental.load_from_saved_model(savedModelPath)\n",
    "newModel.summary()"
   ]
  },
  {
   "cell_type": "markdown",
   "metadata": {},
   "source": [
    "The loaded model can be directly used for prediction:"
   ]
  },
  {
   "cell_type": "code",
   "execution_count": 50,
   "metadata": {},
   "outputs": [
    {
     "data": {
      "text/plain": [
       "(1000, 10)"
      ]
     },
     "execution_count": 50,
     "metadata": {},
     "output_type": "execute_result"
    }
   ],
   "source": [
    "newModel.predict(testImages).shape"
   ]
  },
  {
   "cell_type": "markdown",
   "metadata": {},
   "source": [
    "But for evaluation, we must re-compile the model."
   ]
  },
  {
   "cell_type": "code",
   "execution_count": 51,
   "metadata": {},
   "outputs": [
    {
     "name": "stdout",
     "output_type": "stream",
     "text": [
      "1000/1000 [==============================] - 0s 65us/sample - loss: 0.4233 - accuracy: 0.8620\n",
      "Restored model accuracy: 86.20%\n"
     ]
    }
   ],
   "source": [
    "newModel.compile(optimizer=model.optimizer,  # Reuse the original optimizer.\n",
    "                 loss='sparse_categorical_crossentropy',\n",
    "                 metrics=['accuracy'])\n",
    "loss, accuracy = newModel.evaluate(testImages, testLabels)\n",
    "print(f\"Restored model accuracy: {accuracy:5.2%}\")"
   ]
  }
 ],
 "metadata": {
  "kernelspec": {
   "display_name": "Python 3",
   "language": "python",
   "name": "python3"
  },
  "language_info": {
   "codemirror_mode": {
    "name": "ipython",
    "version": 3
   },
   "file_extension": ".py",
   "mimetype": "text/x-python",
   "name": "python",
   "nbconvert_exporter": "python",
   "pygments_lexer": "ipython3",
   "version": "3.7.3"
  }
 },
 "nbformat": 4,
 "nbformat_minor": 2
}
