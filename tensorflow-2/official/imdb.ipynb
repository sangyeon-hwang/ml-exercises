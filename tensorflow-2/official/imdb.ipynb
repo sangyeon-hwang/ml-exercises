{
 "cells": [
  {
   "cell_type": "markdown",
   "metadata": {},
   "source": [
    "https://www.tensorflow.org/tutorials/keras/basic_text_classification"
   ]
  },
  {
   "cell_type": "code",
   "execution_count": 33,
   "metadata": {},
   "outputs": [],
   "source": [
    "import matplotlib.pyplot as plt\n",
    "import numpy as np\n",
    "import tensorflow as tf"
   ]
  },
  {
   "cell_type": "markdown",
   "metadata": {},
   "source": [
    "### Data preparation\n",
    "Download the data."
   ]
  },
  {
   "cell_type": "code",
   "execution_count": 34,
   "metadata": {},
   "outputs": [],
   "source": [
    "imdb = tf.keras.datasets.imdb\n",
    "vocabularySize = 10000\n",
    "packed = imdb.load_data(num_words=vocabularySize)\n",
    "(trainData, trainLabels), (testData, testLabels) = packed"
   ]
  },
  {
   "cell_type": "markdown",
   "metadata": {},
   "source": [
    "The shapes and dtypes are"
   ]
  },
  {
   "cell_type": "code",
   "execution_count": 35,
   "metadata": {},
   "outputs": [
    {
     "name": "stdout",
     "output_type": "stream",
     "text": [
      "(25000,) object\n",
      "(25000,) int64\n",
      "(25000,) object\n",
      "(25000,) int64\n"
     ]
    }
   ],
   "source": [
    "print(trainData.shape, trainData.dtype)\n",
    "print(trainLabels.shape, trainLabels.dtype)\n",
    "print(testData.shape, testData.dtype)\n",
    "print(testLabels.shape, testLabels.dtype)"
   ]
  },
  {
   "cell_type": "markdown",
   "metadata": {},
   "source": [
    "`trainData` and `testData` have `list`s of `int`s with variable lengths:"
   ]
  },
  {
   "cell_type": "code",
   "execution_count": 36,
   "metadata": {
    "scrolled": true
   },
   "outputs": [
    {
     "name": "stdout",
     "output_type": "stream",
     "text": [
      "[1, 14, 22, 16, 43, 530, 973, 1622, 1385, 65, 458, 4468, 66, 3941, 4, 173, 36, 256, 5, 25, 100, 43, 838, 112, 50, 670, 2, 9, 35, 480, 284, 5, 150, 4, 172, 112, 167, 2, 336, 385, 39, 4, 172, 4536, 1111, 17, 546, 38, 13, 447, 4, 192, 50, 16, 6, 147, 2025, 19, 14, 22, 4, 1920, 4613, 469, 4, 22, 71, 87, 12, 16, 43, 530, 38, 76, 15, 13, 1247, 4, 22, 17, 515, 17, 12, 16, 626, 18, 2, 5, 62, 386, 12, 8, 316, 8, 106, 5, 4, 2223, 5244, 16, 480, 66, 3785, 33, 4, 130, 12, 16, 38, 619, 5, 25, 124, 51, 36, 135, 48, 25, 1415, 33, 6, 22, 12, 215, 28, 77, 52, 5, 14, 407, 16, 82, 2, 8, 4, 107, 117, 5952, 15, 256, 4, 2, 7, 3766, 5, 723, 36, 71, 43, 530, 476, 26, 400, 317, 46, 7, 4, 2, 1029, 13, 104, 88, 4, 381, 15, 297, 98, 32, 2071, 56, 26, 141, 6, 194, 7486, 18, 4, 226, 22, 21, 134, 476, 26, 480, 5, 144, 30, 5535, 18, 51, 36, 28, 224, 92, 25, 104, 4, 226, 65, 16, 38, 1334, 88, 12, 16, 283, 5, 16, 4472, 113, 103, 32, 15, 16, 5345, 19, 178, 32]\n",
      "238.71364\n",
      "230.8042\n"
     ]
    }
   ],
   "source": [
    "print(trainData[0])  # Example\n",
    "print(np.fromiter((len(line) for line in trainData), int).mean())\n",
    "print(np.fromiter((len(line) for line in testData), int).mean())"
   ]
  },
  {
   "cell_type": "markdown",
   "metadata": {},
   "source": [
    "Let's prepare a function for **decoding** the `int` representations.\n",
    "\n",
    "First obtain and process the int-to-word dict."
   ]
  },
  {
   "cell_type": "code",
   "execution_count": 37,
   "metadata": {},
   "outputs": [],
   "source": [
    "wordToIdx = imdb.get_word_index()  # dict[str, int]\n",
    "idxToWord = {idx+3:word for word,idx in wordToIdx.items()}\n",
    "idxToWord[0] = \"<PAD>\"\n",
    "idxToWord[1] = \"<START>\"\n",
    "idxToWord[2] = \"<UNK>\"  # unknown\n",
    "idxToWord[3] = \"<UNUSED>\"\n",
    "\n",
    "def decode(idxs: list) -> str:\n",
    "    return ' '.join(idxToWord.get(idx, '?') for idx in idxs)"
   ]
  },
  {
   "cell_type": "markdown",
   "metadata": {},
   "source": [
    "An example of the decoding is like"
   ]
  },
  {
   "cell_type": "code",
   "execution_count": 38,
   "metadata": {},
   "outputs": [
    {
     "name": "stdout",
     "output_type": "stream",
     "text": [
      "<START> this film was just brilliant casting location scenery story direction everyone's really suited the part they played and you could just imagine being there robert <UNK> is an amazing actor and now the same being director <UNK> father came from the same scottish island as myself so i loved the fact there was a real connection with this film the witty remarks throughout the film were great it was just brilliant so much that i bought the film as soon as it was released for <UNK> and would recommend it to everyone to watch and the fly fishing was amazing really cried at the end it was so sad and you know what they say if you cry at a film it must have been good and this definitely was also <UNK> to the two little boy's that played the <UNK> of norman and paul they were just brilliant children are often left out of the <UNK> list i think because the stars that play them all grown up are such a big profile for the whole film but these children are amazing and should be praised for what they have done don't you think the whole story was so lovely because it was true and was someone's life after all that was shared with us all\n"
     ]
    }
   ],
   "source": [
    "print(decode(trainData[0]))"
   ]
  },
  {
   "cell_type": "markdown",
   "metadata": {},
   "source": [
    "Let's pad the reviews to set an equal length."
   ]
  },
  {
   "cell_type": "code",
   "execution_count": 39,
   "metadata": {},
   "outputs": [],
   "source": [
    "trainData = tf.keras.preprocessing.sequence.pad_sequences(trainData,\n",
    "                                                          value=0,\n",
    "                                                          padding='post',\n",
    "                                                          maxlen=256)\n",
    "testData = tf.keras.preprocessing.sequence.pad_sequences(testData,\n",
    "                                                         value=0,\n",
    "                                                         padding='post',\n",
    "                                                         maxlen=256)"
   ]
  },
  {
   "cell_type": "markdown",
   "metadata": {},
   "source": [
    "Now the shapes and dtypes are changed to"
   ]
  },
  {
   "cell_type": "code",
   "execution_count": 40,
   "metadata": {
    "scrolled": true
   },
   "outputs": [
    {
     "name": "stdout",
     "output_type": "stream",
     "text": [
      "(25000, 256) int32\n",
      "(25000, 256) int32\n"
     ]
    }
   ],
   "source": [
    "print(trainData.shape, trainData.dtype)\n",
    "print(testData.shape, testData.dtype)"
   ]
  },
  {
   "cell_type": "markdown",
   "metadata": {},
   "source": [
    "The decoding of a padded data looks like"
   ]
  },
  {
   "cell_type": "code",
   "execution_count": 42,
   "metadata": {},
   "outputs": [
    {
     "data": {
      "text/plain": [
       "\"<START> this film was just brilliant casting location scenery story direction everyone's really suited the part they played and you could just imagine being there robert <UNK> is an amazing actor and now the same being director <UNK> father came from the same scottish island as myself so i loved the fact there was a real connection with this film the witty remarks throughout the film were great it was just brilliant so much that i bought the film as soon as it was released for <UNK> and would recommend it to everyone to watch and the fly fishing was amazing really cried at the end it was so sad and you know what they say if you cry at a film it must have been good and this definitely was also <UNK> to the two little boy's that played the <UNK> of norman and paul they were just brilliant children are often left out of the <UNK> list i think because the stars that play them all grown up are such a big profile for the whole film but these children are amazing and should be praised for what they have done don't you think the whole story was so lovely because it was true and was someone's life after all that was shared with us all <PAD> <PAD> <PAD> <PAD> <PAD> <PAD> <PAD> <PAD> <PAD> <PAD> <PAD> <PAD> <PAD> <PAD> <PAD> <PAD> <PAD> <PAD> <PAD> <PAD> <PAD> <PAD> <PAD> <PAD> <PAD> <PAD> <PAD> <PAD> <PAD> <PAD> <PAD> <PAD> <PAD> <PAD> <PAD> <PAD> <PAD> <PAD>\""
      ]
     },
     "execution_count": 42,
     "metadata": {},
     "output_type": "execute_result"
    }
   ],
   "source": [
    "decode(trainData[0])"
   ]
  },
  {
   "cell_type": "markdown",
   "metadata": {},
   "source": [
    "### Model"
   ]
  },
  {
   "cell_type": "code",
   "execution_count": 45,
   "metadata": {
    "scrolled": true
   },
   "outputs": [
    {
     "name": "stdout",
     "output_type": "stream",
     "text": [
      "Model: \"sequential_1\"\n",
      "_________________________________________________________________\n",
      "Layer (type)                 Output Shape              Param #   \n",
      "=================================================================\n",
      "embedding_1 (Embedding)      (None, None, 16)          160000    \n",
      "_________________________________________________________________\n",
      "global_average_pooling1d_1 ( (None, 16)                0         \n",
      "_________________________________________________________________\n",
      "dense_2 (Dense)              (None, 16)                272       \n",
      "_________________________________________________________________\n",
      "dense_3 (Dense)              (None, 1)                 17        \n",
      "=================================================================\n",
      "Total params: 160,289\n",
      "Trainable params: 160,289\n",
      "Non-trainable params: 0\n",
      "_________________________________________________________________\n"
     ]
    }
   ],
   "source": [
    "model = tf.keras.Sequential()\n",
    "model.add(tf.keras.layers.Embedding(vocabularySize, 16))\n",
    "model.add(tf.keras.layers.GlobalAveragePooling1D())\n",
    "model.add(tf.keras.layers.Dense(16, activation='relu'))\n",
    "model.add(tf.keras.layers.Dense(1, activation='sigmoid'))\n",
    "model.compile(optimizer='adam',\n",
    "              loss='binary_crossentropy',\n",
    "              metrics=['accuracy'])\n",
    "model.summary()"
   ]
  },
  {
   "cell_type": "markdown",
   "metadata": {},
   "source": [
    "The **embedding** layer embeds the word indices into 16-length vectors. The output dimension of the layer is `(batch, sequence_length, features)`, which is `(batch, 256, 16)` here.\n",
    "\n",
    "The **pooling** layer averages out each example over the sequence dimension (the 2nd axis here). The output dimension becomes `(batch, features)`."
   ]
  },
  {
   "cell_type": "markdown",
   "metadata": {},
   "source": [
    "Split the data into a training set and a test set."
   ]
  },
  {
   "cell_type": "code",
   "execution_count": 46,
   "metadata": {},
   "outputs": [],
   "source": [
    "validateData = trainData[:10000]\n",
    "validateLabels = trainLabels[:10000]\n",
    "subTrainData = trainData[10000:]\n",
    "subTrainLabels = trainLabels[10000:]"
   ]
  },
  {
   "cell_type": "markdown",
   "metadata": {},
   "source": [
    "### Training"
   ]
  },
  {
   "cell_type": "code",
   "execution_count": 47,
   "metadata": {},
   "outputs": [
    {
     "name": "stdout",
     "output_type": "stream",
     "text": [
      "Train on 15000 samples, validate on 10000 samples\n",
      "Epoch 1/40\n",
      "15000/15000 [==============================] - 2s 124us/sample - loss: 0.6916 - accuracy: 0.6410 - val_loss: 0.6896 - val_accuracy: 0.7068\n",
      "Epoch 2/40\n",
      "15000/15000 [==============================] - 1s 63us/sample - loss: 0.6856 - accuracy: 0.7295 - val_loss: 0.6810 - val_accuracy: 0.7429\n",
      "Epoch 3/40\n",
      "15000/15000 [==============================] - 1s 69us/sample - loss: 0.6714 - accuracy: 0.7621 - val_loss: 0.6628 - val_accuracy: 0.7516\n",
      "Epoch 4/40\n",
      "15000/15000 [==============================] - 1s 65us/sample - loss: 0.6468 - accuracy: 0.7658 - val_loss: 0.6354 - val_accuracy: 0.7530\n",
      "Epoch 5/40\n",
      "15000/15000 [==============================] - 1s 64us/sample - loss: 0.6121 - accuracy: 0.7913 - val_loss: 0.5998 - val_accuracy: 0.7831\n",
      "Epoch 6/40\n",
      "15000/15000 [==============================] - 1s 73us/sample - loss: 0.5694 - accuracy: 0.8125 - val_loss: 0.5592 - val_accuracy: 0.8017\n",
      "Epoch 7/40\n",
      "15000/15000 [==============================] - 1s 62us/sample - loss: 0.5226 - accuracy: 0.8271 - val_loss: 0.5158 - val_accuracy: 0.8191\n",
      "Epoch 8/40\n",
      "15000/15000 [==============================] - 1s 69us/sample - loss: 0.4765 - accuracy: 0.8443 - val_loss: 0.4761 - val_accuracy: 0.8324\n",
      "Epoch 9/40\n",
      "15000/15000 [==============================] - 1s 64us/sample - loss: 0.4338 - accuracy: 0.8594 - val_loss: 0.4405 - val_accuracy: 0.8417\n",
      "Epoch 10/40\n",
      "15000/15000 [==============================] - 1s 63us/sample - loss: 0.3963 - accuracy: 0.8720 - val_loss: 0.4111 - val_accuracy: 0.8505\n",
      "Epoch 11/40\n",
      "15000/15000 [==============================] - 1s 64us/sample - loss: 0.3645 - accuracy: 0.8800 - val_loss: 0.3867 - val_accuracy: 0.8584\n",
      "Epoch 12/40\n",
      "15000/15000 [==============================] - 1s 62us/sample - loss: 0.3376 - accuracy: 0.8883 - val_loss: 0.3678 - val_accuracy: 0.8606\n",
      "Epoch 13/40\n",
      "15000/15000 [==============================] - 1s 68us/sample - loss: 0.3156 - accuracy: 0.8942 - val_loss: 0.3511 - val_accuracy: 0.8673\n",
      "Epoch 14/40\n",
      "15000/15000 [==============================] - 1s 62us/sample - loss: 0.2957 - accuracy: 0.8992 - val_loss: 0.3388 - val_accuracy: 0.8706\n",
      "Epoch 15/40\n",
      "15000/15000 [==============================] - 1s 66us/sample - loss: 0.2790 - accuracy: 0.9044 - val_loss: 0.3285 - val_accuracy: 0.8728\n",
      "Epoch 16/40\n",
      "15000/15000 [==============================] - 1s 62us/sample - loss: 0.2639 - accuracy: 0.9089 - val_loss: 0.3199 - val_accuracy: 0.8733\n",
      "Epoch 17/40\n",
      "15000/15000 [==============================] - 1s 66us/sample - loss: 0.2500 - accuracy: 0.9131 - val_loss: 0.3128 - val_accuracy: 0.8766\n",
      "Epoch 18/40\n",
      "15000/15000 [==============================] - 1s 66us/sample - loss: 0.2377 - accuracy: 0.9186 - val_loss: 0.3066 - val_accuracy: 0.8797\n",
      "Epoch 19/40\n",
      "15000/15000 [==============================] - 1s 67us/sample - loss: 0.2265 - accuracy: 0.9209 - val_loss: 0.3013 - val_accuracy: 0.8811\n",
      "Epoch 20/40\n",
      "15000/15000 [==============================] - 1s 65us/sample - loss: 0.2165 - accuracy: 0.9246 - val_loss: 0.2976 - val_accuracy: 0.8818\n",
      "Epoch 21/40\n",
      "15000/15000 [==============================] - 1s 66us/sample - loss: 0.2062 - accuracy: 0.9299 - val_loss: 0.2944 - val_accuracy: 0.8818\n",
      "Epoch 22/40\n",
      "15000/15000 [==============================] - 1s 69us/sample - loss: 0.1976 - accuracy: 0.9323 - val_loss: 0.2917 - val_accuracy: 0.8837\n",
      "Epoch 23/40\n",
      "15000/15000 [==============================] - 1s 65us/sample - loss: 0.1889 - accuracy: 0.9364 - val_loss: 0.2904 - val_accuracy: 0.8829\n",
      "Epoch 24/40\n",
      "15000/15000 [==============================] - 1s 70us/sample - loss: 0.1814 - accuracy: 0.9402 - val_loss: 0.2884 - val_accuracy: 0.8843\n",
      "Epoch 25/40\n",
      "15000/15000 [==============================] - 1s 67us/sample - loss: 0.1736 - accuracy: 0.9446 - val_loss: 0.2868 - val_accuracy: 0.8844\n",
      "Epoch 26/40\n",
      "15000/15000 [==============================] - 1s 67us/sample - loss: 0.1668 - accuracy: 0.9473 - val_loss: 0.2871 - val_accuracy: 0.8834\n",
      "Epoch 27/40\n",
      "15000/15000 [==============================] - 1s 69us/sample - loss: 0.1602 - accuracy: 0.9493 - val_loss: 0.2864 - val_accuracy: 0.8849\n",
      "Epoch 28/40\n",
      "15000/15000 [==============================] - 1s 66us/sample - loss: 0.1539 - accuracy: 0.9528 - val_loss: 0.2864 - val_accuracy: 0.8848\n",
      "Epoch 29/40\n",
      "15000/15000 [==============================] - 1s 71us/sample - loss: 0.1484 - accuracy: 0.9552 - val_loss: 0.2878 - val_accuracy: 0.8843\n",
      "Epoch 30/40\n",
      "15000/15000 [==============================] - 1s 66us/sample - loss: 0.1426 - accuracy: 0.9561 - val_loss: 0.2870 - val_accuracy: 0.8854\n",
      "Epoch 31/40\n",
      "15000/15000 [==============================] - 1s 73us/sample - loss: 0.1368 - accuracy: 0.9595 - val_loss: 0.2879 - val_accuracy: 0.8862\n",
      "Epoch 32/40\n",
      "15000/15000 [==============================] - 1s 70us/sample - loss: 0.1315 - accuracy: 0.9615 - val_loss: 0.2891 - val_accuracy: 0.8866\n",
      "Epoch 33/40\n",
      "15000/15000 [==============================] - 1s 70us/sample - loss: 0.1264 - accuracy: 0.9630 - val_loss: 0.2911 - val_accuracy: 0.8850\n",
      "Epoch 34/40\n",
      "15000/15000 [==============================] - 1s 73us/sample - loss: 0.1219 - accuracy: 0.9653 - val_loss: 0.2929 - val_accuracy: 0.8860\n",
      "Epoch 35/40\n",
      "15000/15000 [==============================] - 1s 71us/sample - loss: 0.1177 - accuracy: 0.9662 - val_loss: 0.2953 - val_accuracy: 0.8860\n",
      "Epoch 36/40\n",
      "15000/15000 [==============================] - 1s 74us/sample - loss: 0.1131 - accuracy: 0.9688 - val_loss: 0.2968 - val_accuracy: 0.8850\n",
      "Epoch 37/40\n",
      "15000/15000 [==============================] - 1s 74us/sample - loss: 0.1087 - accuracy: 0.9695 - val_loss: 0.2992 - val_accuracy: 0.8853\n",
      "Epoch 38/40\n",
      "15000/15000 [==============================] - 1s 77us/sample - loss: 0.1047 - accuracy: 0.9707 - val_loss: 0.3024 - val_accuracy: 0.8826\n",
      "Epoch 39/40\n",
      "15000/15000 [==============================] - 1s 74us/sample - loss: 0.1015 - accuracy: 0.9719 - val_loss: 0.3057 - val_accuracy: 0.8829\n",
      "Epoch 40/40\n",
      "15000/15000 [==============================] - 1s 70us/sample - loss: 0.0973 - accuracy: 0.9740 - val_loss: 0.3081 - val_accuracy: 0.8829\n"
     ]
    }
   ],
   "source": [
    "history = model.fit(subTrainData, subTrainLabels,\n",
    "                    epochs=40,\n",
    "                    batch_size=512,\n",
    "                    validation_data=(validateData, validateLabels),\n",
    "                    verbose=1)"
   ]
  },
  {
   "cell_type": "code",
   "execution_count": 54,
   "metadata": {},
   "outputs": [
    {
     "data": {
      "image/png": "[encoded data removed]",
      "text/plain": [
       "<Figure size 576x288 with 2 Axes>"
      ]
     },
     "metadata": {
      "needs_background": "light"
     },
     "output_type": "display_data"
    }
   ],
   "source": [
    "plt.figure(figsize=(8,4))\n",
    "plt.subplot(1,2,1)\n",
    "plt.plot(history.epoch, history.history['loss'], 'bo', label='Training loss')\n",
    "plt.plot(history.epoch, history.history['val_loss'], 'b', label='Validation loss')\n",
    "plt.title('Training and valiation losses')\n",
    "plt.xlabel('Epochs')\n",
    "plt.ylabel('Loss')\n",
    "plt.legend()\n",
    "\n",
    "plt.subplot(1,2,2)\n",
    "plt.plot(history.epoch, history.history['accuracy'], 'ro', label='Training accuracy')\n",
    "plt.plot(history.epoch, history.history['val_accuracy'], 'r', label='Validation accuracy')\n",
    "plt.title('Training and valiation accuracies')\n",
    "plt.xlabel('Epochs')\n",
    "plt.ylabel('Accuracy')\n",
    "plt.legend()\n",
    "plt.show()"
   ]
  },
  {
   "cell_type": "markdown",
   "metadata": {},
   "source": [
    "### Evaluation"
   ]
  },
  {
   "cell_type": "code",
   "execution_count": 56,
   "metadata": {},
   "outputs": [
    {
     "name": "stdout",
     "output_type": "stream",
     "text": [
      "25000/25000 [==============================] - 1s 37us/sample - loss: 0.3286 - accuracy: 0.8714\n",
      "Test loss and accuracy: [0.32862340389728545, 0.87136]\n"
     ]
    }
   ],
   "source": [
    "result = model.evaluate(testData, testLabels)\n",
    "print(\"Test loss and accuracy:\", result)"
   ]
  }
 ],
 "metadata": {
  "kernelspec": {
   "display_name": "Python 3",
   "language": "python",
   "name": "python3"
  },
  "language_info": {
   "codemirror_mode": {
    "name": "ipython",
    "version": 3
   },
   "file_extension": ".py",
   "mimetype": "text/x-python",
   "name": "python",
   "nbconvert_exporter": "python",
   "pygments_lexer": "ipython3",
   "version": "3.7.3"
  }
 },
 "nbformat": 4,
 "nbformat_minor": 2
}
